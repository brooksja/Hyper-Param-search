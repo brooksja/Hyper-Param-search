{
 "cells": [
  {
   "cell_type": "markdown",
   "metadata": {},
   "source": [
    "## Notebook for testing and exploring\n",
    "\n",
    "Environment to use is HP\n",
    "\n",
    "Notes to self:\n",
    "\n",
    "Will require modification to marugoto to allow variable learning rate (and possibly batch size)"
   ]
  },
  {
   "cell_type": "code",
   "execution_count": 38,
   "metadata": {},
   "outputs": [
    {
     "ename": "SyntaxError",
     "evalue": "invalid syntax (61160990.py, line 10)",
     "output_type": "error",
     "traceback": [
      "\u001b[0;36m  Input \u001b[0;32mIn [38]\u001b[0;36m\u001b[0m\n\u001b[0;31m    import Harry-Potter-Hyper-Params.src.loading_utils\u001b[0m\n\u001b[0m                ^\u001b[0m\n\u001b[0;31mSyntaxError\u001b[0m\u001b[0;31m:\u001b[0m invalid syntax\n"
     ]
    }
   ],
   "source": [
    "# Import packages\n",
    "\n",
    "# want: torch, torchvision, numpy, h5py, tqdm, pytorch-lightning, marugoto, openslide?\n",
    "import os\n",
    "import numpy as np\n",
    "from tqdm.notebook import tqdm\n",
    "import h5py\n",
    "import pytorch_lightning as pl\n",
    "\n",
    "import src.loading_utils"
   ]
  },
  {
   "cell_type": "code",
   "execution_count": 2,
   "metadata": {},
   "outputs": [],
   "source": [
    "# pseudo code\n",
    "\n",
    "# for M in [models to test]:\n",
    "#     for features in [ResNet feats, Xiyue Wang feats, HIPT feats]:\n",
    "#         for Bsize in [list of batch sizes to test]:\n",
    "#             for lr in [list of learning rates to test]:\n",
    "#                 train model using cross validation\n",
    "#                 if have multiple cohorts, could test/deploy on one/some and report AUROC and test loss\n",
    "#                 save best AUROC, valid loss, ...\n",
    "\n",
    "# print/save(table of results)"
   ]
  },
  {
   "cell_type": "code",
   "execution_count": 31,
   "metadata": {},
   "outputs": [
    {
     "name": "stdout",
     "output_type": "stream",
     "text": [
      "['/media/JD/LIVER/TCGA-LIVER-HCC/features', '/media/JD/LIVER/TCGA-LIVER-HCC/HIPT_features']\n",
      "/media/JD/LIVER/TCGA-LIVER-HCC/features/resnet18\n",
      "/media/JD/LIVER/TCGA-LIVER-HCC/features/xiyue\n",
      "/media/JD/LIVER/TCGA-LIVER-HCC/HIPT_features\n"
     ]
    }
   ],
   "source": [
    "# Using TCGA-LIVER-HCC to test scripts\n",
    "Cohort = '/media/JD/LIVER/TCGA-LIVER-HCC/'\n",
    "desired_feats = ['resnet18','xiyue','HIPT'] # NOTE: make these the only options in parser of final version\n",
    "\n",
    "good = []\n",
    "# find features folders\n",
    "for root,dirs,files in os.walk(Cohort):\n",
    "    [good.append(os.path.join(root,d)) for d in dirs if 'feature' in d if not('annotated' in d)] # checks for folders containing features but ignores annotated\n",
    "\n",
    "print(good)\n",
    "for f in desired_feats:\n",
    "    # generate path to folder of features\n",
    "    if f == 'HIPT':\n",
    "        desired_path = [g for g in good if 'HIPT' in g][0]\n",
    "    else:\n",
    "        desired_path = os.path.join([g for g in good if not('HIPT' in g)][0],f)\n",
    "\n",
    "    print(desired_path)\n",
    "\n",
    "    # load feats\n",
    "\n"
   ]
  },
  {
   "cell_type": "code",
   "execution_count": null,
   "metadata": {},
   "outputs": [],
   "source": []
  }
 ],
 "metadata": {
  "kernelspec": {
   "display_name": "Python 3.10.5 ('HP')",
   "language": "python",
   "name": "python3"
  },
  "language_info": {
   "codemirror_mode": {
    "name": "ipython",
    "version": 3
   },
   "file_extension": ".py",
   "mimetype": "text/x-python",
   "name": "python",
   "nbconvert_exporter": "python",
   "pygments_lexer": "ipython3",
   "version": "3.10.5"
  },
  "orig_nbformat": 4,
  "vscode": {
   "interpreter": {
    "hash": "f98563ddaddeedb1bc8c603057217245fa48cb89b923df61260d311e5fe4f660"
   }
  }
 },
 "nbformat": 4,
 "nbformat_minor": 2
}
